{
 "cells": [
  {
   "cell_type": "code",
   "execution_count": 2,
   "metadata": {},
   "outputs": [],
   "source": [
    "%load_ext autoreload\n",
    "%autoreload 2"
   ]
  },
  {
   "cell_type": "code",
   "execution_count": 1,
   "metadata": {},
   "outputs": [],
   "source": [
    "#TO DO\n",
    "# dodać porządne instrukcje jak dodawać dataset\n",
    "# być może z hugginface datasets"
   ]
  },
  {
   "cell_type": "code",
   "execution_count": 3,
   "metadata": {},
   "outputs": [],
   "source": [
    "import watermark.config as config\n",
    "import pandas as pd\n",
    "import requests\n",
    "import os"
   ]
  },
  {
   "cell_type": "code",
   "execution_count": 3,
   "metadata": {},
   "outputs": [],
   "source": [
    "def get_file(url):\n",
    "    response = requests.get(url)\n",
    "    open(\"instagram.ico\", \"wb\").write(response.content)"
   ]
  },
  {
   "cell_type": "code",
   "execution_count": 4,
   "metadata": {},
   "outputs": [],
   "source": [
    "train_images = pd.read_csv(config.paths.raw/\"train.csv\")"
   ]
  },
  {
   "cell_type": "code",
   "execution_count": 5,
   "metadata": {},
   "outputs": [],
   "source": [
    "for i,image_url in enumerate(train_images.OriginalURL[:20000]):\n",
    "    response = requests.get(image_url)\n",
    "    open(str(config.paths.raw/\"train\"/f\"{i}{os.path.splitext(image_url)[1]}\"), \"wb\").write(response.content)\n",
    "\n"
   ]
  },
  {
   "cell_type": "code",
   "execution_count": 6,
   "metadata": {},
   "outputs": [],
   "source": [
    "validation_images = pd.read_csv(config.paths.raw/\"validation.csv\")"
   ]
  },
  {
   "cell_type": "code",
   "execution_count": 7,
   "metadata": {},
   "outputs": [],
   "source": [
    "for i,image_url in enumerate(validation_images.OriginalURL[:4000]):\n",
    "    response = requests.get(image_url)\n",
    "    open(str(config.paths.raw/\"validation\"/f\"{i}{os.path.splitext(image_url)[1]}\"), \"wb\").write(response.content)"
   ]
  },
  {
   "cell_type": "code",
   "execution_count": 7,
   "metadata": {},
   "outputs": [],
   "source": [
    "downloaded_images_paths = list(config.paths.RAW.glob(\"*/*\"))"
   ]
  },
  {
   "cell_type": "code",
   "execution_count": 8,
   "metadata": {},
   "outputs": [],
   "source": [
    "from PIL import Image\n",
    "\n",
    "bad_images = []\n",
    "\n",
    "for image_path in downloaded_images_paths:\n",
    "    try:\n",
    "        Image.open(image_path)\n",
    "    except Image.UnidentifiedImageError:\n",
    "        os.remove(image_path)"
   ]
  }
 ],
 "metadata": {
  "kernelspec": {
   "display_name": ".venv",
   "language": "python",
   "name": "python3"
  },
  "language_info": {
   "codemirror_mode": {
    "name": "ipython",
    "version": 3
   },
   "file_extension": ".py",
   "mimetype": "text/x-python",
   "name": "python",
   "nbconvert_exporter": "python",
   "pygments_lexer": "ipython3",
   "version": "3.10.6 (main, Nov 14 2022, 16:10:14) [GCC 11.3.0]"
  },
  "orig_nbformat": 4,
  "vscode": {
   "interpreter": {
    "hash": "7430917e6bb8f3c1a646645a5e08065ba5c2b89f908142a2e826238e4831932c"
   }
  }
 },
 "nbformat": 4,
 "nbformat_minor": 2
}
